{
  "cells": [
    {
      "cell_type": "markdown",
      "id": "98567175-d71b-4b45-822f-59b3e44bbcdd",
      "metadata": {
        "id": "98567175-d71b-4b45-822f-59b3e44bbcdd"
      },
      "source": [
        "## Load model\n"
      ]
    },
    {
      "cell_type": "code",
      "execution_count": 1,
      "id": "3a934873-7c87-43f8-a690-218c1fd76b08",
      "metadata": {
        "colab": {
          "base_uri": "https://localhost:8080/",
          "height": 384
        },
        "id": "3a934873-7c87-43f8-a690-218c1fd76b08",
        "outputId": "86691040-4885-4e96-b605-e9c7aae327ec"
      },
      "outputs": [
        {
          "name": "stdout",
          "output_type": "stream",
          "text": [
            "loading model\n",
            "<All keys matched successfully>\n"
          ]
        }
      ],
      "source": [
        "import yaml\n",
        "import torch\n",
        "torch.backends.cuda.matmul.allow_tf32 = True\n",
        "torch.backends.cudnn.allow_tf32 = True\n",
        "from PIL import Image\n",
        "import requests\n",
        "from io import BytesIO\n",
        "import numpy as np\n",
        "from IPython.display import display, HTML\n",
        "import ipywidgets as widgets\n",
        "from diffusers.models import AutoencoderKL\n",
        "\n",
        "from diffusion import create_diffusion\n",
        "from isolated_nwm_infer import model_forward_wrapper\n",
        "from misc import transform\n",
        "from models import CDiT_models\n",
        "from datasets import TrainingDataset\n",
        "\n",
        "EXP_NAME = 'nwm_cdit_xl'\n",
        "MODEL_PATH = f'logs/{EXP_NAME}/checkpoints/0100000.pth.tar'\n",
        "\n",
        "with open(\"config/data_config.yaml\", \"r\") as f:\n",
        "    default_config = yaml.safe_load(f)\n",
        "config = default_config\n",
        "\n",
        "with open(f'config/{EXP_NAME}.yaml', \"r\") as f:\n",
        "    user_config = yaml.safe_load(f)\n",
        "config.update(user_config)\n",
        "latent_size = config['image_size'] // 8\n",
        "\n",
        "print(\"loading model\")\n",
        "model = CDiT_models[config['model']](input_size=latent_size, context_size=config['context_size'])\n",
        "ckp = torch.load(MODEL_PATH, map_location='cpu', weights_only=False)\n",
        "print(model.load_state_dict(ckp[\"ema\"], strict=True))\n",
        "model.eval()\n",
        "device = 'cuda:0'\n",
        "model.to(device)\n",
        "model = torch.compile(model)\n",
        "\n",
        "diffusion = create_diffusion(str(250))\n",
        "vae = AutoencoderKL.from_pretrained(f\"stabilityai/sd-vae-ft-ema\").to(device)\n",
        "latent_size = config['image_size'] // 8\n",
        "\n"
      ]
    },
    {
      "cell_type": "markdown",
      "id": "7b496bed-ae5e-4478-b9ac-1e59aa1e0a98",
      "metadata": {
        "id": "7b496bed-ae5e-4478-b9ac-1e59aa1e0a98"
      },
      "source": [
        "## Choose starting image"
      ]
    },
    {
      "cell_type": "code",
      "execution_count": 2,
      "id": "547fbb4c-050c-4ad5-b4ef-90649d35dfd7",
      "metadata": {
        "id": "547fbb4c-050c-4ad5-b4ef-90649d35dfd7"
      },
      "outputs": [
        {
          "data": {
            "application/vnd.jupyter.widget-view+json": {
              "model_id": "f4adc979d3a3441b8de670dd2e5566c4",
              "version_major": 2,
              "version_minor": 0
            },
            "text/plain": [
              "HBox(children=(VBox(children=(HTML(value='<img src=\"https://raw.githubusercontent.com/FBI-openup/nwm/main/ware…"
            ]
          },
          "metadata": {},
          "output_type": "display_data"
        },
        {
          "data": {
            "application/vnd.jupyter.widget-view+json": {
              "model_id": "29e1a366db364c40a1326cfb4ada8c36",
              "version_major": 2,
              "version_minor": 0
            },
            "text/plain": [
              "Output()"
            ]
          },
          "metadata": {},
          "output_type": "display_data"
        }
      ],
      "source": [
        "def url_to_pil_image(url):\n",
        "    response = requests.get(url)\n",
        "    img = Image.open(BytesIO(response.content)).convert('RGB')\n",
        "    return img\n",
        "\n",
        "def load_internet_image(url):\n",
        "    from torchvision import transforms\n",
        "    _transform = transforms.Compose([\n",
        "        transforms.Resize((224, 224)),\n",
        "        transforms.ToTensor(),\n",
        "        transforms.Normalize(mean=[0.5, 0.5, 0.5], std=[0.5, 0.5, 0.5], inplace=True),\n",
        "    ])\n",
        "    img = url_to_pil_image(url)\n",
        "    x_start = _transform(img)\n",
        "    return x_start.unsqueeze(0).expand(config['context_size'], x_start.shape[0], x_start.shape[1], x_start.shape[2])\n",
        "\n",
        "# Jupyter Notebook Cell\n",
        "\n",
        "\n",
        "# List of image links\n",
        "image_links = [\n",
        "    #'https://raw.githubusercontent.com/amirbar/amirbar.github.io/refs/heads/master/images/recon.png',\n",
        "    #'https://raw.githubusercontent.com/amirbar/amirbar.github.io/refs/heads/master/images/scand.png',\n",
        "    #'https://raw.githubusercontent.com/amirbar/amirbar.github.io/refs/heads/master/images/sacson.png',\n",
        "    #'https://raw.githubusercontent.com/amirbar/amirbar.github.io/refs/heads/master/images/tartan.png',\n",
        "    \n",
        "\t#add customized images \n",
        "    #known images different from official website\n",
        "    #'https://raw.githubusercontent.com/FBI-openup/nwm/main/warehouse%20Images/frame.png',\n",
        "    \n",
        "    # unknown warehouse (collapse)\n",
        "    'https://raw.githubusercontent.com/FBI-openup/nwm/main/warehouse%20Images/realistic-warehouse-photo1.png',\n",
        "    'https://raw.githubusercontent.com/FBI-openup/nwm/main/warehouse%20Images/warehouse2.png',\n",
        "\t#'https://raw.githubusercontent.com/FBI-openup/nwm/main/warehouse%20Images/obstracle+warehouse3.jpg',\n",
        "    #'https://raw.githubusercontent.com/FBI-openup/nwm/main/warehouse%20Images/Resized.jpg',\n",
        "    #'https://raw.githubusercontent.com/FBI-openup/nwm/main/warehouse%20Images/realwarehouse.png',\n",
        "    #'https://raw.githubusercontent.com/FBI-openup/nwm/main/warehouse%20Images/Low.png',\n",
        "\t\n",
        "\t#unknown enviroment from internet\n",
        "    #'https://raw.githubusercontent.com/FBI-openup/nwm/main/warehouse%20Images/livingroom.jpg',\n",
        "   \n",
        "\t# unknown environment from offcial website\n",
        "    #'https://raw.githubusercontent.com/FBI-openup/nwm/main/warehouse%20Images/chateau.png',\n",
        "    #unknown From roboflow\n",
        "    #'https://raw.githubusercontent.com/FBI-openup/nwm/main/warehouse%20Images/cornel.png'\n",
        "]\n",
        "\n",
        "# Output widget to hold the selected link\n",
        "output = widgets.Output()\n",
        "x_start_link = None  # This will hold the selected link\n",
        "\n",
        "# Function to handle image click\n",
        "def on_image_click(link):\n",
        "    global x_start_link\n",
        "    x_start_link = link\n",
        "    with output:\n",
        "        output.clear_output()\n",
        "        print(f\"Selected image link:\\n{x_start_link}\")\n",
        "\n",
        "# Create HBox of images\n",
        "image_buttons = []\n",
        "for link in image_links:\n",
        "    img = widgets.Button(\n",
        "        description='click',\n",
        "        layout=widgets.Layout(width='150px', height='20px', padding='0'),\n",
        "        style={'button_color': 'lightgray'}\n",
        "    )\n",
        "\n",
        "    img._dom_classes += ('image-button',)\n",
        "    img_link = link  # capture current link in closure\n",
        "\n",
        "    def on_click(b, link=img_link):\n",
        "        on_image_click(link)\n",
        "\n",
        "    img.on_click(on_click)\n",
        "\n",
        "    # Embed image using HTML style\n",
        "    img_html = f'<img src=\"{link}\" width=\"150px\" height=\"150px\">'\n",
        "    img_html_widget = widgets.HTML(value=img_html)\n",
        "    image_buttons.append(widgets.VBox([img_html_widget, img]))\n",
        "\n",
        "# Display the gallery\n",
        "display(widgets.HBox(image_buttons))\n",
        "display(output)\n"
      ]
    },
    {
      "cell_type": "markdown",
      "id": "acbb2fb1-47ba-480f-8d23-15411def6c2e",
      "metadata": {
        "id": "acbb2fb1-47ba-480f-8d23-15411def6c2e"
      },
      "source": [
        "## Visualize navigation commands"
      ]
    },
    {
      "cell_type": "code",
      "execution_count": 3,
      "id": "84e26069-8f2b-4ac1-a96d-2778bfa1a89a",
      "metadata": {
        "id": "84e26069-8f2b-4ac1-a96d-2778bfa1a89a"
      },
      "outputs": [
        {
          "ename": "MissingSchema",
          "evalue": "Invalid URL 'None': No scheme supplied. Perhaps you meant https://None?",
          "output_type": "error",
          "traceback": [
            "\u001b[0;31m---------------------------------------------------------------------------\u001b[0m",
            "\u001b[0;31mMissingSchema\u001b[0m                             Traceback (most recent call last)",
            "Cell \u001b[0;32mIn[3], line 1\u001b[0m\n\u001b[0;32m----> 1\u001b[0m x_start \u001b[38;5;241m=\u001b[39m \u001b[43mload_internet_image\u001b[49m\u001b[43m(\u001b[49m\u001b[43mx_start_link\u001b[49m\u001b[43m)\u001b[49m\n\u001b[1;32m      2\u001b[0m \u001b[38;5;28mprint\u001b[39m(x_start_link)\n\u001b[1;32m      3\u001b[0m commands \u001b[38;5;241m=\u001b[39m {\n\u001b[1;32m      4\u001b[0m     \u001b[38;5;124m'\u001b[39m\u001b[38;5;124mForward\u001b[39m\u001b[38;5;124m'\u001b[39m: [\u001b[38;5;241m1\u001b[39m,\u001b[38;5;241m0\u001b[39m,\u001b[38;5;241m0\u001b[39m],\n\u001b[1;32m      5\u001b[0m     \u001b[38;5;124m'\u001b[39m\u001b[38;5;124mRotate Right\u001b[39m\u001b[38;5;124m'\u001b[39m: [\u001b[38;5;241m0\u001b[39m,\u001b[38;5;241m0\u001b[39m,\u001b[38;5;241m-\u001b[39m\u001b[38;5;241m0.5\u001b[39m],\n\u001b[1;32m      6\u001b[0m     \u001b[38;5;124m'\u001b[39m\u001b[38;5;124mRotate Left\u001b[39m\u001b[38;5;124m'\u001b[39m: [\u001b[38;5;241m0\u001b[39m,\u001b[38;5;241m0\u001b[39m,\u001b[38;5;241m0.5\u001b[39m],\n\u001b[1;32m      7\u001b[0m }\n",
            "Cell \u001b[0;32mIn[2], line 13\u001b[0m, in \u001b[0;36mload_internet_image\u001b[0;34m(url)\u001b[0m\n\u001b[1;32m      7\u001b[0m \u001b[38;5;28;01mfrom\u001b[39;00m\u001b[38;5;250m \u001b[39m\u001b[38;5;21;01mtorchvision\u001b[39;00m\u001b[38;5;250m \u001b[39m\u001b[38;5;28;01mimport\u001b[39;00m transforms\n\u001b[1;32m      8\u001b[0m _transform \u001b[38;5;241m=\u001b[39m transforms\u001b[38;5;241m.\u001b[39mCompose([\n\u001b[1;32m      9\u001b[0m     transforms\u001b[38;5;241m.\u001b[39mResize((\u001b[38;5;241m224\u001b[39m, \u001b[38;5;241m224\u001b[39m)),\n\u001b[1;32m     10\u001b[0m     transforms\u001b[38;5;241m.\u001b[39mToTensor(),\n\u001b[1;32m     11\u001b[0m     transforms\u001b[38;5;241m.\u001b[39mNormalize(mean\u001b[38;5;241m=\u001b[39m[\u001b[38;5;241m0.5\u001b[39m, \u001b[38;5;241m0.5\u001b[39m, \u001b[38;5;241m0.5\u001b[39m], std\u001b[38;5;241m=\u001b[39m[\u001b[38;5;241m0.5\u001b[39m, \u001b[38;5;241m0.5\u001b[39m, \u001b[38;5;241m0.5\u001b[39m], inplace\u001b[38;5;241m=\u001b[39m\u001b[38;5;28;01mTrue\u001b[39;00m),\n\u001b[1;32m     12\u001b[0m ])\n\u001b[0;32m---> 13\u001b[0m img \u001b[38;5;241m=\u001b[39m \u001b[43murl_to_pil_image\u001b[49m\u001b[43m(\u001b[49m\u001b[43murl\u001b[49m\u001b[43m)\u001b[49m\n\u001b[1;32m     14\u001b[0m x_start \u001b[38;5;241m=\u001b[39m _transform(img)\n\u001b[1;32m     15\u001b[0m \u001b[38;5;28;01mreturn\u001b[39;00m x_start\u001b[38;5;241m.\u001b[39munsqueeze(\u001b[38;5;241m0\u001b[39m)\u001b[38;5;241m.\u001b[39mexpand(config[\u001b[38;5;124m'\u001b[39m\u001b[38;5;124mcontext_size\u001b[39m\u001b[38;5;124m'\u001b[39m], x_start\u001b[38;5;241m.\u001b[39mshape[\u001b[38;5;241m0\u001b[39m], x_start\u001b[38;5;241m.\u001b[39mshape[\u001b[38;5;241m1\u001b[39m], x_start\u001b[38;5;241m.\u001b[39mshape[\u001b[38;5;241m2\u001b[39m])\n",
            "Cell \u001b[0;32mIn[2], line 2\u001b[0m, in \u001b[0;36murl_to_pil_image\u001b[0;34m(url)\u001b[0m\n\u001b[1;32m      1\u001b[0m \u001b[38;5;28;01mdef\u001b[39;00m\u001b[38;5;250m \u001b[39m\u001b[38;5;21murl_to_pil_image\u001b[39m(url):\n\u001b[0;32m----> 2\u001b[0m     response \u001b[38;5;241m=\u001b[39m \u001b[43mrequests\u001b[49m\u001b[38;5;241;43m.\u001b[39;49m\u001b[43mget\u001b[49m\u001b[43m(\u001b[49m\u001b[43murl\u001b[49m\u001b[43m)\u001b[49m\n\u001b[1;32m      3\u001b[0m     img \u001b[38;5;241m=\u001b[39m Image\u001b[38;5;241m.\u001b[39mopen(BytesIO(response\u001b[38;5;241m.\u001b[39mcontent))\u001b[38;5;241m.\u001b[39mconvert(\u001b[38;5;124m'\u001b[39m\u001b[38;5;124mRGB\u001b[39m\u001b[38;5;124m'\u001b[39m)\n\u001b[1;32m      4\u001b[0m     \u001b[38;5;28;01mreturn\u001b[39;00m img\n",
            "File \u001b[0;32m~/miniforge3/envs/nwm-env/lib/python3.10/site-packages/requests/api.py:73\u001b[0m, in \u001b[0;36mget\u001b[0;34m(url, params, **kwargs)\u001b[0m\n\u001b[1;32m     62\u001b[0m \u001b[38;5;28;01mdef\u001b[39;00m\u001b[38;5;250m \u001b[39m\u001b[38;5;21mget\u001b[39m(url, params\u001b[38;5;241m=\u001b[39m\u001b[38;5;28;01mNone\u001b[39;00m, \u001b[38;5;241m*\u001b[39m\u001b[38;5;241m*\u001b[39mkwargs):\n\u001b[1;32m     63\u001b[0m \u001b[38;5;250m    \u001b[39m\u001b[38;5;124mr\u001b[39m\u001b[38;5;124;03m\"\"\"Sends a GET request.\u001b[39;00m\n\u001b[1;32m     64\u001b[0m \n\u001b[1;32m     65\u001b[0m \u001b[38;5;124;03m    :param url: URL for the new :class:`Request` object.\u001b[39;00m\n\u001b[0;32m   (...)\u001b[0m\n\u001b[1;32m     70\u001b[0m \u001b[38;5;124;03m    :rtype: requests.Response\u001b[39;00m\n\u001b[1;32m     71\u001b[0m \u001b[38;5;124;03m    \"\"\"\u001b[39;00m\n\u001b[0;32m---> 73\u001b[0m     \u001b[38;5;28;01mreturn\u001b[39;00m \u001b[43mrequest\u001b[49m\u001b[43m(\u001b[49m\u001b[38;5;124;43m\"\u001b[39;49m\u001b[38;5;124;43mget\u001b[39;49m\u001b[38;5;124;43m\"\u001b[39;49m\u001b[43m,\u001b[49m\u001b[43m \u001b[49m\u001b[43murl\u001b[49m\u001b[43m,\u001b[49m\u001b[43m \u001b[49m\u001b[43mparams\u001b[49m\u001b[38;5;241;43m=\u001b[39;49m\u001b[43mparams\u001b[49m\u001b[43m,\u001b[49m\u001b[43m \u001b[49m\u001b[38;5;241;43m*\u001b[39;49m\u001b[38;5;241;43m*\u001b[39;49m\u001b[43mkwargs\u001b[49m\u001b[43m)\u001b[49m\n",
            "File \u001b[0;32m~/miniforge3/envs/nwm-env/lib/python3.10/site-packages/requests/api.py:59\u001b[0m, in \u001b[0;36mrequest\u001b[0;34m(method, url, **kwargs)\u001b[0m\n\u001b[1;32m     55\u001b[0m \u001b[38;5;66;03m# By using the 'with' statement we are sure the session is closed, thus we\u001b[39;00m\n\u001b[1;32m     56\u001b[0m \u001b[38;5;66;03m# avoid leaving sockets open which can trigger a ResourceWarning in some\u001b[39;00m\n\u001b[1;32m     57\u001b[0m \u001b[38;5;66;03m# cases, and look like a memory leak in others.\u001b[39;00m\n\u001b[1;32m     58\u001b[0m \u001b[38;5;28;01mwith\u001b[39;00m sessions\u001b[38;5;241m.\u001b[39mSession() \u001b[38;5;28;01mas\u001b[39;00m session:\n\u001b[0;32m---> 59\u001b[0m     \u001b[38;5;28;01mreturn\u001b[39;00m \u001b[43msession\u001b[49m\u001b[38;5;241;43m.\u001b[39;49m\u001b[43mrequest\u001b[49m\u001b[43m(\u001b[49m\u001b[43mmethod\u001b[49m\u001b[38;5;241;43m=\u001b[39;49m\u001b[43mmethod\u001b[49m\u001b[43m,\u001b[49m\u001b[43m \u001b[49m\u001b[43murl\u001b[49m\u001b[38;5;241;43m=\u001b[39;49m\u001b[43murl\u001b[49m\u001b[43m,\u001b[49m\u001b[43m \u001b[49m\u001b[38;5;241;43m*\u001b[39;49m\u001b[38;5;241;43m*\u001b[39;49m\u001b[43mkwargs\u001b[49m\u001b[43m)\u001b[49m\n",
            "File \u001b[0;32m~/miniforge3/envs/nwm-env/lib/python3.10/site-packages/requests/sessions.py:575\u001b[0m, in \u001b[0;36mSession.request\u001b[0;34m(self, method, url, params, data, headers, cookies, files, auth, timeout, allow_redirects, proxies, hooks, stream, verify, cert, json)\u001b[0m\n\u001b[1;32m    562\u001b[0m \u001b[38;5;66;03m# Create the Request.\u001b[39;00m\n\u001b[1;32m    563\u001b[0m req \u001b[38;5;241m=\u001b[39m Request(\n\u001b[1;32m    564\u001b[0m     method\u001b[38;5;241m=\u001b[39mmethod\u001b[38;5;241m.\u001b[39mupper(),\n\u001b[1;32m    565\u001b[0m     url\u001b[38;5;241m=\u001b[39murl,\n\u001b[0;32m   (...)\u001b[0m\n\u001b[1;32m    573\u001b[0m     hooks\u001b[38;5;241m=\u001b[39mhooks,\n\u001b[1;32m    574\u001b[0m )\n\u001b[0;32m--> 575\u001b[0m prep \u001b[38;5;241m=\u001b[39m \u001b[38;5;28;43mself\u001b[39;49m\u001b[38;5;241;43m.\u001b[39;49m\u001b[43mprepare_request\u001b[49m\u001b[43m(\u001b[49m\u001b[43mreq\u001b[49m\u001b[43m)\u001b[49m\n\u001b[1;32m    577\u001b[0m proxies \u001b[38;5;241m=\u001b[39m proxies \u001b[38;5;129;01mor\u001b[39;00m {}\n\u001b[1;32m    579\u001b[0m settings \u001b[38;5;241m=\u001b[39m \u001b[38;5;28mself\u001b[39m\u001b[38;5;241m.\u001b[39mmerge_environment_settings(\n\u001b[1;32m    580\u001b[0m     prep\u001b[38;5;241m.\u001b[39murl, proxies, stream, verify, cert\n\u001b[1;32m    581\u001b[0m )\n",
            "File \u001b[0;32m~/miniforge3/envs/nwm-env/lib/python3.10/site-packages/requests/sessions.py:484\u001b[0m, in \u001b[0;36mSession.prepare_request\u001b[0;34m(self, request)\u001b[0m\n\u001b[1;32m    481\u001b[0m     auth \u001b[38;5;241m=\u001b[39m get_netrc_auth(request\u001b[38;5;241m.\u001b[39murl)\n\u001b[1;32m    483\u001b[0m p \u001b[38;5;241m=\u001b[39m PreparedRequest()\n\u001b[0;32m--> 484\u001b[0m \u001b[43mp\u001b[49m\u001b[38;5;241;43m.\u001b[39;49m\u001b[43mprepare\u001b[49m\u001b[43m(\u001b[49m\n\u001b[1;32m    485\u001b[0m \u001b[43m    \u001b[49m\u001b[43mmethod\u001b[49m\u001b[38;5;241;43m=\u001b[39;49m\u001b[43mrequest\u001b[49m\u001b[38;5;241;43m.\u001b[39;49m\u001b[43mmethod\u001b[49m\u001b[38;5;241;43m.\u001b[39;49m\u001b[43mupper\u001b[49m\u001b[43m(\u001b[49m\u001b[43m)\u001b[49m\u001b[43m,\u001b[49m\n\u001b[1;32m    486\u001b[0m \u001b[43m    \u001b[49m\u001b[43murl\u001b[49m\u001b[38;5;241;43m=\u001b[39;49m\u001b[43mrequest\u001b[49m\u001b[38;5;241;43m.\u001b[39;49m\u001b[43murl\u001b[49m\u001b[43m,\u001b[49m\n\u001b[1;32m    487\u001b[0m \u001b[43m    \u001b[49m\u001b[43mfiles\u001b[49m\u001b[38;5;241;43m=\u001b[39;49m\u001b[43mrequest\u001b[49m\u001b[38;5;241;43m.\u001b[39;49m\u001b[43mfiles\u001b[49m\u001b[43m,\u001b[49m\n\u001b[1;32m    488\u001b[0m \u001b[43m    \u001b[49m\u001b[43mdata\u001b[49m\u001b[38;5;241;43m=\u001b[39;49m\u001b[43mrequest\u001b[49m\u001b[38;5;241;43m.\u001b[39;49m\u001b[43mdata\u001b[49m\u001b[43m,\u001b[49m\n\u001b[1;32m    489\u001b[0m \u001b[43m    \u001b[49m\u001b[43mjson\u001b[49m\u001b[38;5;241;43m=\u001b[39;49m\u001b[43mrequest\u001b[49m\u001b[38;5;241;43m.\u001b[39;49m\u001b[43mjson\u001b[49m\u001b[43m,\u001b[49m\n\u001b[1;32m    490\u001b[0m \u001b[43m    \u001b[49m\u001b[43mheaders\u001b[49m\u001b[38;5;241;43m=\u001b[39;49m\u001b[43mmerge_setting\u001b[49m\u001b[43m(\u001b[49m\n\u001b[1;32m    491\u001b[0m \u001b[43m        \u001b[49m\u001b[43mrequest\u001b[49m\u001b[38;5;241;43m.\u001b[39;49m\u001b[43mheaders\u001b[49m\u001b[43m,\u001b[49m\u001b[43m \u001b[49m\u001b[38;5;28;43mself\u001b[39;49m\u001b[38;5;241;43m.\u001b[39;49m\u001b[43mheaders\u001b[49m\u001b[43m,\u001b[49m\u001b[43m \u001b[49m\u001b[43mdict_class\u001b[49m\u001b[38;5;241;43m=\u001b[39;49m\u001b[43mCaseInsensitiveDict\u001b[49m\n\u001b[1;32m    492\u001b[0m \u001b[43m    \u001b[49m\u001b[43m)\u001b[49m\u001b[43m,\u001b[49m\n\u001b[1;32m    493\u001b[0m \u001b[43m    \u001b[49m\u001b[43mparams\u001b[49m\u001b[38;5;241;43m=\u001b[39;49m\u001b[43mmerge_setting\u001b[49m\u001b[43m(\u001b[49m\u001b[43mrequest\u001b[49m\u001b[38;5;241;43m.\u001b[39;49m\u001b[43mparams\u001b[49m\u001b[43m,\u001b[49m\u001b[43m \u001b[49m\u001b[38;5;28;43mself\u001b[39;49m\u001b[38;5;241;43m.\u001b[39;49m\u001b[43mparams\u001b[49m\u001b[43m)\u001b[49m\u001b[43m,\u001b[49m\n\u001b[1;32m    494\u001b[0m \u001b[43m    \u001b[49m\u001b[43mauth\u001b[49m\u001b[38;5;241;43m=\u001b[39;49m\u001b[43mmerge_setting\u001b[49m\u001b[43m(\u001b[49m\u001b[43mauth\u001b[49m\u001b[43m,\u001b[49m\u001b[43m \u001b[49m\u001b[38;5;28;43mself\u001b[39;49m\u001b[38;5;241;43m.\u001b[39;49m\u001b[43mauth\u001b[49m\u001b[43m)\u001b[49m\u001b[43m,\u001b[49m\n\u001b[1;32m    495\u001b[0m \u001b[43m    \u001b[49m\u001b[43mcookies\u001b[49m\u001b[38;5;241;43m=\u001b[39;49m\u001b[43mmerged_cookies\u001b[49m\u001b[43m,\u001b[49m\n\u001b[1;32m    496\u001b[0m \u001b[43m    \u001b[49m\u001b[43mhooks\u001b[49m\u001b[38;5;241;43m=\u001b[39;49m\u001b[43mmerge_hooks\u001b[49m\u001b[43m(\u001b[49m\u001b[43mrequest\u001b[49m\u001b[38;5;241;43m.\u001b[39;49m\u001b[43mhooks\u001b[49m\u001b[43m,\u001b[49m\u001b[43m \u001b[49m\u001b[38;5;28;43mself\u001b[39;49m\u001b[38;5;241;43m.\u001b[39;49m\u001b[43mhooks\u001b[49m\u001b[43m)\u001b[49m\u001b[43m,\u001b[49m\n\u001b[1;32m    497\u001b[0m \u001b[43m\u001b[49m\u001b[43m)\u001b[49m\n\u001b[1;32m    498\u001b[0m \u001b[38;5;28;01mreturn\u001b[39;00m p\n",
            "File \u001b[0;32m~/miniforge3/envs/nwm-env/lib/python3.10/site-packages/requests/models.py:367\u001b[0m, in \u001b[0;36mPreparedRequest.prepare\u001b[0;34m(self, method, url, headers, files, data, params, auth, cookies, hooks, json)\u001b[0m\n\u001b[1;32m    364\u001b[0m \u001b[38;5;250m\u001b[39m\u001b[38;5;124;03m\"\"\"Prepares the entire request with the given parameters.\"\"\"\u001b[39;00m\n\u001b[1;32m    366\u001b[0m \u001b[38;5;28mself\u001b[39m\u001b[38;5;241m.\u001b[39mprepare_method(method)\n\u001b[0;32m--> 367\u001b[0m \u001b[38;5;28;43mself\u001b[39;49m\u001b[38;5;241;43m.\u001b[39;49m\u001b[43mprepare_url\u001b[49m\u001b[43m(\u001b[49m\u001b[43murl\u001b[49m\u001b[43m,\u001b[49m\u001b[43m \u001b[49m\u001b[43mparams\u001b[49m\u001b[43m)\u001b[49m\n\u001b[1;32m    368\u001b[0m \u001b[38;5;28mself\u001b[39m\u001b[38;5;241m.\u001b[39mprepare_headers(headers)\n\u001b[1;32m    369\u001b[0m \u001b[38;5;28mself\u001b[39m\u001b[38;5;241m.\u001b[39mprepare_cookies(cookies)\n",
            "File \u001b[0;32m~/miniforge3/envs/nwm-env/lib/python3.10/site-packages/requests/models.py:438\u001b[0m, in \u001b[0;36mPreparedRequest.prepare_url\u001b[0;34m(self, url, params)\u001b[0m\n\u001b[1;32m    435\u001b[0m     \u001b[38;5;28;01mraise\u001b[39;00m InvalidURL(\u001b[38;5;241m*\u001b[39me\u001b[38;5;241m.\u001b[39margs)\n\u001b[1;32m    437\u001b[0m \u001b[38;5;28;01mif\u001b[39;00m \u001b[38;5;129;01mnot\u001b[39;00m scheme:\n\u001b[0;32m--> 438\u001b[0m     \u001b[38;5;28;01mraise\u001b[39;00m MissingSchema(\n\u001b[1;32m    439\u001b[0m         \u001b[38;5;124mf\u001b[39m\u001b[38;5;124m\"\u001b[39m\u001b[38;5;124mInvalid URL \u001b[39m\u001b[38;5;132;01m{\u001b[39;00murl\u001b[38;5;132;01m!r}\u001b[39;00m\u001b[38;5;124m: No scheme supplied. \u001b[39m\u001b[38;5;124m\"\u001b[39m\n\u001b[1;32m    440\u001b[0m         \u001b[38;5;124mf\u001b[39m\u001b[38;5;124m\"\u001b[39m\u001b[38;5;124mPerhaps you meant https://\u001b[39m\u001b[38;5;132;01m{\u001b[39;00murl\u001b[38;5;132;01m}\u001b[39;00m\u001b[38;5;124m?\u001b[39m\u001b[38;5;124m\"\u001b[39m\n\u001b[1;32m    441\u001b[0m     )\n\u001b[1;32m    443\u001b[0m \u001b[38;5;28;01mif\u001b[39;00m \u001b[38;5;129;01mnot\u001b[39;00m host:\n\u001b[1;32m    444\u001b[0m     \u001b[38;5;28;01mraise\u001b[39;00m InvalidURL(\u001b[38;5;124mf\u001b[39m\u001b[38;5;124m\"\u001b[39m\u001b[38;5;124mInvalid URL \u001b[39m\u001b[38;5;132;01m{\u001b[39;00murl\u001b[38;5;132;01m!r}\u001b[39;00m\u001b[38;5;124m: No host supplied\u001b[39m\u001b[38;5;124m\"\u001b[39m)\n",
            "\u001b[0;31mMissingSchema\u001b[0m: Invalid URL 'None': No scheme supplied. Perhaps you meant https://None?"
          ]
        }
      ],
      "source": [
        "x_start = load_internet_image(x_start_link)\n",
        "print(x_start_link)\n",
        "commands = {\n",
        "    'Forward': [1,0,0],\n",
        "    'Rotate Right': [0,0,-0.5],\n",
        "    'Rotate Left': [0,0,0.5],\n",
        "}\n",
        "preds = {}\n",
        "\n",
        "def reset():\n",
        "    x_cond_pixels = x_start\n",
        "    reconstructed_image=x_cond_pixels.to(device)\n",
        "    preds['x_cond_pixels_display'] = (reconstructed_image[-1] * 127.5 + 127.5).clamp(0, 255).permute(1, 2, 0).to(\"cpu\", dtype=torch.uint8).numpy()\n",
        "    preds['x_cond_pixels'] = x_cond_pixels\n",
        "    preds['video'] = [preds['x_cond_pixels_display']]\n",
        "\n",
        "\n",
        "reset()\n",
        "display(Image.fromarray(preds['x_cond_pixels_display']))\n",
        "Image.fromarray(preds['x_cond_pixels_display']).save('sacson.png')\n",
        "\n",
        "output = widgets.Output()\n",
        "display(output)\n",
        "rel_t = (torch.ones(1)*0.0078125).to(device)\n",
        "\n",
        "@output.capture()\n",
        "def update_image(b):\n",
        "\n",
        "    if b.description == 'Reset':\n",
        "        print(\"Reset clicked!\")\n",
        "        output.clear_output(wait=False)\n",
        "        reset()\n",
        "        return\n",
        "\n",
        "    print(\"Button clicked!\")\n",
        "    y = commands[b.description]\n",
        "    y = torch.tensor(y).to(device).unsqueeze(0)\n",
        "\n",
        "    print(\"You entered:\", b.description)\n",
        "    x_cond_pixels = preds['x_cond_pixels'][-4:].unsqueeze(0).to(device)\n",
        "    samples = model_forward_wrapper((model, diffusion, vae), x_cond_pixels, y, None, latent_size, device, config[\"context_size\"], num_goals=1, rel_t=rel_t, progress=True)\n",
        "    x_cond_pixels = samples # torch.clip(samples, -1., 1.)\n",
        "    preds['x_cond_pixels'] = torch.cat([preds['x_cond_pixels'].to(x_cond_pixels), x_cond_pixels], dim=0)\n",
        "    samples = (samples * 127.5 + 127.5).permute(0, 2, 3, 1).clamp(0,255).to(\"cpu\", dtype=torch.uint8).numpy()\n",
        "    display(Image.fromarray(samples[0]))\n",
        "    preds['video'].append(samples[0])\n",
        "\n",
        "buttons = []\n",
        "for o in [\"Forward\", \"Rotate Left\", \"Rotate Right\", \"Reset\"]:\n",
        "    b = widgets.Button(description=o)\n",
        "    b.on_click(update_image)\n",
        "    display(b)\n",
        "    buttons.append(b)"
      ]
    },
    {
      "cell_type": "markdown",
      "id": "c695d6bf-7845-415f-b430-a26e7f37a439",
      "metadata": {
        "id": "c695d6bf-7845-415f-b430-a26e7f37a439"
      },
      "source": [
        "# Generate a video"
      ]
    },
    {
      "cell_type": "code",
      "execution_count": null,
      "id": "73a55d72-1a1d-4122-a52f-62e4a4ed6f9f",
      "metadata": {
        "id": "73a55d72-1a1d-4122-a52f-62e4a4ed6f9f"
      },
      "outputs": [],
      "source": [
        "\n",
        "%matplotlib inline\n",
        "from matplotlib import pyplot as plt\n",
        "from matplotlib import animation\n",
        "from IPython.display import HTML\n",
        "import numpy as np\n",
        "# np array with shape (frames, height, width, channels)\n",
        "video = np.array(preds['video'])\n",
        "\n",
        "fig = plt.figure()\n",
        "im = plt.imshow(video[0,:,:,:])\n",
        "\n",
        "plt.close() # this is required to not display the generated image\n",
        "\n",
        "def init():\n",
        "    im.set_data(video[0,:,:,:])\n",
        "\n",
        "def animate(i):\n",
        "    im.set_data(video[i,:,:,:])\n",
        "    return im\n",
        "\n",
        "anim = animation.FuncAnimation(fig, animate, init_func=init, frames=video.shape[0],\n",
        "                               interval=500)\n",
        "HTML(anim.to_html5_video())\n"
      ]
    },
    {
      "cell_type": "code",
      "execution_count": null,
      "id": "0fd48cd5-84d0-455a-91cd-dd38f97a9ec4",
      "metadata": {
        "id": "0fd48cd5-84d0-455a-91cd-dd38f97a9ec4"
      },
      "outputs": [],
      "source": [
        "# optional: load from dataset\n",
        "# dataloaders = {}\n",
        "\n",
        "# for dataset_name in config[\"datasets\"]:\n",
        "#     data_config = config[\"datasets\"][dataset_name]\n",
        "#     for data_split_type in [\"test\"]: #[\"test\"]:\n",
        "#         dataset = TrainingDataset(\n",
        "#             data_folder=data_config[\"data_folder\"],\n",
        "#             data_split_folder=data_config[data_split_type],\n",
        "#             dataset_name=dataset_name,\n",
        "#             image_size=config[\"image_size\"],\n",
        "#             min_dist_cat=config[\"distance\"][\"min_dist_cat\"],\n",
        "#             max_dist_cat=config[\"distance\"][\"max_dist_cat\"],\n",
        "#             len_traj_pred=config[\"len_traj_pred\"],\n",
        "#             context_size=config[\"context_size\"],\n",
        "#             normalize=config[\"normalize\"],\n",
        "#             goals_per_obs=1,\n",
        "#             transform=transform,\n",
        "#             predefined_index=None,\n",
        "#             traj_stride=1,\n",
        "#         )\n",
        "#         dataloaders[f\"{dataset_name}_{data_split_type}\"] = dataset\n",
        "#         print(f\"Dataset: {dataset_name} ({data_split_type}), size: {len(dataset)}\")\n",
        "\n",
        "# load from dataset\n",
        "# ds = dataloaders['recon_test'] # scand_test,\n",
        "# x, _, _ = ds[np.random.randint(len(ds))]\n",
        "# x_start = x[:config[\"context_size\"]]\n"
      ]
    }
  ],
  "metadata": {
    "colab": {
      "include_colab_link": true,
      "provenance": []
    },
    "kernelspec": {
      "display_name": "nwm-env",
      "language": "python",
      "name": "python3"
    },
    "language_info": {
      "codemirror_mode": {
        "name": "ipython",
        "version": 3
      },
      "file_extension": ".py",
      "mimetype": "text/x-python",
      "name": "python",
      "nbconvert_exporter": "python",
      "pygments_lexer": "ipython3",
      "version": "3.10.17"
    }
  },
  "nbformat": 4,
  "nbformat_minor": 5
}
